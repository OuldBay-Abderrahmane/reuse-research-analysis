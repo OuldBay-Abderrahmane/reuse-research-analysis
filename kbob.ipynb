{
 "cells": [
  {
   "cell_type": "code",
   "execution_count": 21,
   "metadata": {},
   "outputs": [],
   "source": [
    "import pandas as pd\n",
    "\n",
    "co2 = pd.read_excel(\"data/co2.xlsx\", sheet_name=\"Baumaterialien Matériaux1\",header=0)"
   ]
  },
  {
   "cell_type": "code",
   "execution_count": 25,
   "metadata": {},
   "outputs": [
    {
     "data": {
      "text/plain": [
       "UBP_Total                                                                                     59300.0\n",
       "UPB_Fabrication                                                                               55400.0\n",
       "UBP_Élimination                                                                                3960.0\n",
       "REN_Total                                                                                       114.0\n",
       "REN_Total fabrication                                                                           114.0\n",
       "REN_Valorisé sous forme énergétique fabrication                                                  67.3\n",
       "REN_Valorisé sous forme de matière fabrication                                                   47.0\n",
       "REN_Élimination                                                                                0.0221\n",
       "NREN_Total                                                                                      139.0\n",
       "NREN_Total fabrication                                                                          138.0\n",
       "NREN_Valorisé sous forme énergétique fabrication                                                131.0\n",
       "NREN_Valorisé sous forme de matière fabrication                                                  7.03\n",
       "NREN_Élimination                                                                                 1.23\n",
       "GES_Total                                                                                        25.4\n",
       "GES_Fabrication                                                                                  22.0\n",
       "GES_Élimination                                                                                  3.36\n",
       "Contenu dans le produit                                                                          4.11\n",
       "Travaux de préparation                              Cadre de fenêtre en bois, Saphir intégral 67/5...\n",
       "Name: 92, dtype: object"
      ]
     },
     "execution_count": 25,
     "metadata": {},
     "output_type": "execute_result"
    }
   ],
   "source": [
    "co2 = co2.dropna().reset_index().drop(columns=[\"index\", \"level_0\"])\n",
    "co2[\"Travaux de préparation\"] = co2[\"Travaux de préparation\"].astype(str)\n",
    "\n",
    "co2.loc[92]\n"
   ]
  },
  {
   "cell_type": "code",
   "execution_count": 26,
   "metadata": {},
   "outputs": [],
   "source": [
    "import pandas as pd\n",
    "from deep_translator import GoogleTranslator\n",
    "\n",
    "\n",
    "# Function to translate text using Google Translate\n",
    "def translate_text(text, src_lang='fr', dest_lang='en'):\n",
    "    return GoogleTranslator(source=src_lang, target=dest_lang).translate(text) \n",
    "\n",
    "\n",
    "# Translate the DataFrame\n",
    "a = co2[\"Travaux de préparation\"].apply(translate_text)\n"
   ]
  },
  {
   "cell_type": "code",
   "execution_count": 33,
   "metadata": {},
   "outputs": [],
   "source": [
    "from sentence_transformers import SentenceTransformer\n",
    "from sklearn.metrics.pairwise import cosine_similarity\n",
    "import numpy as np\n",
    "\n",
    "model = SentenceTransformer('sentence-transformers/all-MiniLM-L6-v2')\n",
    "\n",
    "embeddings = model.encode(a)\n"
   ]
  },
  {
   "cell_type": "code",
   "execution_count": 34,
   "metadata": {},
   "outputs": [],
   "source": [
    "uni_mat_ma = pd.read_excel(\"data/Uniclass2015_Ma_v1_1.xlsx\", header=2)\n",
    "\n",
    "uni_mat_ma = pd.read_excel(\"data/Uniclass2015_Ma_v1_1.xlsx\", header=2)\n",
    "embeddings_uni_ma = model.encode(uni_mat_ma.Title)"
   ]
  },
  {
   "cell_type": "code",
   "execution_count": 35,
   "metadata": {},
   "outputs": [],
   "source": [
    "codes = pd.DataFrame(pd.concat([uni_mat_ma.Title], axis=0))\n",
    "codes = codes.reset_index(drop=True)\n",
    "codes.columns = [\"raw\"]\n",
    "\n",
    "similarity = cosine_similarity(embeddings, embeddings_uni_ma)\n",
    "\n",
    "num_top_indices = 1 \n",
    "\n",
    "top_indices = [np.argmax(row) for row in similarity]\n",
    "\n",
    "\n",
    "threshold = 0.40  # Set your desired threshold value\n",
    "\n",
    "# Set values to \"nan\" if cosine similarity is below the threshold\n",
    "raw_values = [codes['raw'].iloc[idx] if sim[idx] > threshold else np.nan for idx, sim in zip(top_indices, similarity)]\n",
    "\n",
    "# Add these as new columns to your DataFrame\n",
    "co2['material_emb'] = raw_values\n"
   ]
  },
  {
   "cell_type": "code",
   "execution_count": 36,
   "metadata": {},
   "outputs": [],
   "source": [
    "co2.to_csv(\"kbob_mat.csv\")"
   ]
  },
  {
   "cell_type": "code",
   "execution_count": null,
   "metadata": {},
   "outputs": [],
   "source": []
  }
 ],
 "metadata": {
  "kernelspec": {
   "display_name": "Python 3",
   "language": "python",
   "name": "python3"
  },
  "language_info": {
   "codemirror_mode": {
    "name": "ipython",
    "version": 3
   },
   "file_extension": ".py",
   "mimetype": "text/x-python",
   "name": "python",
   "nbconvert_exporter": "python",
   "pygments_lexer": "ipython3",
   "version": "3.9.10"
  }
 },
 "nbformat": 4,
 "nbformat_minor": 2
}
